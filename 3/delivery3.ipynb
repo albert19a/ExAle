{
 "cells": [
  {
   "cell_type": "code",
   "execution_count": 3,
   "metadata": {},
   "outputs": [],
   "source": [
    "import spacy\n",
    "from spacy import displacy\n",
    "nlp = spacy.load('en_core_web_sm')\n",
    "import nltk\n",
    "from nltk.stem.porter import *\n",
    "from nltk.stem.snowball import SnowballStemmer"
   ]
  },
  {
   "cell_type": "code",
   "execution_count": 4,
   "metadata": {},
   "outputs": [],
   "source": [
    "doc1 = \"tentative phrase!\"\n",
    "doc2 = \"my address is a.p@gmail.com. My website is www.stat.it/home\"\n",
    "doc3 = \"the # of students has been constant through the years.\" \n",
    "doc4 = \"The initial 'Board of Visitors' included U.S. Presidents Thomas Jefferson, James Madison and James Monroe\"\n",
    "doc5 = \"Apple is building its headquarters in China for 100 million dollars\"\n",
    "doc6 = \"The student commitee of UAB will meet at Plaza Central at 9pm\"\n",
    "doc7 = \"\""
   ]
  },
  {
   "cell_type": "code",
   "execution_count": 9,
   "metadata": {},
   "outputs": [
    {
     "name": "stdout",
     "output_type": "stream",
     "text": [
      "The|initial|'|Board|of|Visitors|'|included|U.S.|Presidents|Thomas|Jefferson|,|James|Madison|and|James|Monroe|"
     ]
    }
   ],
   "source": [
    "# tokenization\n",
    "doc = nlp(doc4)\n",
    "for tokens in doc:\n",
    "    #print(tokens.text)\n",
    "    print(tokens.text, end=\"|\")"
   ]
  },
  {
   "cell_type": "code",
   "execution_count": 11,
   "metadata": {},
   "outputs": [
    {
     "name": "stdout",
     "output_type": "stream",
     "text": [
      "Board\n"
     ]
    }
   ],
   "source": [
    "print(doc[3]) # doc can be accessed as list"
   ]
  },
  {
   "cell_type": "code",
   "execution_count": 12,
   "metadata": {
    "scrolled": true
   },
   "outputs": [
    {
     "name": "stdout",
     "output_type": "stream",
     "text": [
      "Board of Visitors'\n",
      "ORG\n",
      "Companies, agencies, institutions, etc.\n",
      "U.S.\n",
      "GPE\n",
      "Countries, cities, states\n",
      "Thomas Jefferson\n",
      "PERSON\n",
      "People, including fictional\n",
      "James Madison\n",
      "PERSON\n",
      "People, including fictional\n",
      "James Monroe\n",
      "PERSON\n",
      "People, including fictional\n"
     ]
    }
   ],
   "source": [
    "for ent in doc.ents:\n",
    "    print(ent.text)\n",
    "    print(ent.label_)\n",
    "    print(str(spacy.explain(ent.label_)))"
   ]
  },
  {
   "cell_type": "markdown",
   "metadata": {},
   "source": [
    "Graph"
   ]
  },
  {
   "cell_type": "code",
   "execution_count": 21,
   "metadata": {},
   "outputs": [
    {
     "data": {
      "text/html": [
       "<span class=\"tex2jax_ignore\"><svg xmlns=\"http://www.w3.org/2000/svg\" xmlns:xlink=\"http://www.w3.org/1999/xlink\" xml:lang=\"en\" id=\"f6f04a0583e847efafa13634c10ad62f-0\" class=\"displacy\" width=\"850\" height=\"187.0\" direction=\"ltr\" style=\"max-width: none; height: 187.0px; color: #000000; background: #ffffff; font-family: Arial; direction: ltr\">\n",
       "<text class=\"displacy-token\" fill=\"currentColor\" text-anchor=\"middle\" y=\"97.0\">\n",
       "    <tspan class=\"displacy-word\" fill=\"currentColor\" x=\"50\">my</tspan>\n",
       "    <tspan class=\"displacy-tag\" dy=\"2em\" fill=\"currentColor\" x=\"50\">PRON</tspan>\n",
       "</text>\n",
       "\n",
       "<text class=\"displacy-token\" fill=\"currentColor\" text-anchor=\"middle\" y=\"97.0\">\n",
       "    <tspan class=\"displacy-word\" fill=\"currentColor\" x=\"150\">address</tspan>\n",
       "    <tspan class=\"displacy-tag\" dy=\"2em\" fill=\"currentColor\" x=\"150\">NOUN</tspan>\n",
       "</text>\n",
       "\n",
       "<text class=\"displacy-token\" fill=\"currentColor\" text-anchor=\"middle\" y=\"97.0\">\n",
       "    <tspan class=\"displacy-word\" fill=\"currentColor\" x=\"250\">is</tspan>\n",
       "    <tspan class=\"displacy-tag\" dy=\"2em\" fill=\"currentColor\" x=\"250\">AUX</tspan>\n",
       "</text>\n",
       "\n",
       "<text class=\"displacy-token\" fill=\"currentColor\" text-anchor=\"middle\" y=\"97.0\">\n",
       "    <tspan class=\"displacy-word\" fill=\"currentColor\" x=\"350\">a.p@gmail.com.</tspan>\n",
       "    <tspan class=\"displacy-tag\" dy=\"2em\" fill=\"currentColor\" x=\"350\">PROPN</tspan>\n",
       "</text>\n",
       "\n",
       "<text class=\"displacy-token\" fill=\"currentColor\" text-anchor=\"middle\" y=\"97.0\">\n",
       "    <tspan class=\"displacy-word\" fill=\"currentColor\" x=\"450\">My</tspan>\n",
       "    <tspan class=\"displacy-tag\" dy=\"2em\" fill=\"currentColor\" x=\"450\">PRON</tspan>\n",
       "</text>\n",
       "\n",
       "<text class=\"displacy-token\" fill=\"currentColor\" text-anchor=\"middle\" y=\"97.0\">\n",
       "    <tspan class=\"displacy-word\" fill=\"currentColor\" x=\"550\">website</tspan>\n",
       "    <tspan class=\"displacy-tag\" dy=\"2em\" fill=\"currentColor\" x=\"550\">NOUN</tspan>\n",
       "</text>\n",
       "\n",
       "<text class=\"displacy-token\" fill=\"currentColor\" text-anchor=\"middle\" y=\"97.0\">\n",
       "    <tspan class=\"displacy-word\" fill=\"currentColor\" x=\"650\">is</tspan>\n",
       "    <tspan class=\"displacy-tag\" dy=\"2em\" fill=\"currentColor\" x=\"650\">AUX</tspan>\n",
       "</text>\n",
       "\n",
       "<text class=\"displacy-token\" fill=\"currentColor\" text-anchor=\"middle\" y=\"97.0\">\n",
       "    <tspan class=\"displacy-word\" fill=\"currentColor\" x=\"750\">www.stat.it/home</tspan>\n",
       "    <tspan class=\"displacy-tag\" dy=\"2em\" fill=\"currentColor\" x=\"750\">ADJ</tspan>\n",
       "</text>\n",
       "\n",
       "<g class=\"displacy-arrow\">\n",
       "    <path class=\"displacy-arc\" id=\"arrow-f6f04a0583e847efafa13634c10ad62f-0-0\" stroke-width=\"2px\" d=\"M70,52.0 C70,2.0 150.0,2.0 150.0,52.0\" fill=\"none\" stroke=\"currentColor\"/>\n",
       "    <text dy=\"1.25em\" style=\"font-size: 0.8em; letter-spacing: 1px\">\n",
       "        <textPath xlink:href=\"#arrow-f6f04a0583e847efafa13634c10ad62f-0-0\" class=\"displacy-label\" startOffset=\"50%\" side=\"left\" fill=\"currentColor\" text-anchor=\"middle\">poss</textPath>\n",
       "    </text>\n",
       "    <path class=\"displacy-arrowhead\" d=\"M70,54.0 L62,42.0 78,42.0\" fill=\"currentColor\"/>\n",
       "</g>\n",
       "\n",
       "<g class=\"displacy-arrow\">\n",
       "    <path class=\"displacy-arc\" id=\"arrow-f6f04a0583e847efafa13634c10ad62f-0-1\" stroke-width=\"2px\" d=\"M170,52.0 C170,2.0 250.0,2.0 250.0,52.0\" fill=\"none\" stroke=\"currentColor\"/>\n",
       "    <text dy=\"1.25em\" style=\"font-size: 0.8em; letter-spacing: 1px\">\n",
       "        <textPath xlink:href=\"#arrow-f6f04a0583e847efafa13634c10ad62f-0-1\" class=\"displacy-label\" startOffset=\"50%\" side=\"left\" fill=\"currentColor\" text-anchor=\"middle\">nsubj</textPath>\n",
       "    </text>\n",
       "    <path class=\"displacy-arrowhead\" d=\"M170,54.0 L162,42.0 178,42.0\" fill=\"currentColor\"/>\n",
       "</g>\n",
       "\n",
       "<g class=\"displacy-arrow\">\n",
       "    <path class=\"displacy-arc\" id=\"arrow-f6f04a0583e847efafa13634c10ad62f-0-2\" stroke-width=\"2px\" d=\"M270,52.0 C270,2.0 350.0,2.0 350.0,52.0\" fill=\"none\" stroke=\"currentColor\"/>\n",
       "    <text dy=\"1.25em\" style=\"font-size: 0.8em; letter-spacing: 1px\">\n",
       "        <textPath xlink:href=\"#arrow-f6f04a0583e847efafa13634c10ad62f-0-2\" class=\"displacy-label\" startOffset=\"50%\" side=\"left\" fill=\"currentColor\" text-anchor=\"middle\">attr</textPath>\n",
       "    </text>\n",
       "    <path class=\"displacy-arrowhead\" d=\"M350.0,54.0 L358.0,42.0 342.0,42.0\" fill=\"currentColor\"/>\n",
       "</g>\n",
       "\n",
       "<g class=\"displacy-arrow\">\n",
       "    <path class=\"displacy-arc\" id=\"arrow-f6f04a0583e847efafa13634c10ad62f-0-3\" stroke-width=\"2px\" d=\"M470,52.0 C470,2.0 550.0,2.0 550.0,52.0\" fill=\"none\" stroke=\"currentColor\"/>\n",
       "    <text dy=\"1.25em\" style=\"font-size: 0.8em; letter-spacing: 1px\">\n",
       "        <textPath xlink:href=\"#arrow-f6f04a0583e847efafa13634c10ad62f-0-3\" class=\"displacy-label\" startOffset=\"50%\" side=\"left\" fill=\"currentColor\" text-anchor=\"middle\">poss</textPath>\n",
       "    </text>\n",
       "    <path class=\"displacy-arrowhead\" d=\"M470,54.0 L462,42.0 478,42.0\" fill=\"currentColor\"/>\n",
       "</g>\n",
       "\n",
       "<g class=\"displacy-arrow\">\n",
       "    <path class=\"displacy-arc\" id=\"arrow-f6f04a0583e847efafa13634c10ad62f-0-4\" stroke-width=\"2px\" d=\"M570,52.0 C570,2.0 650.0,2.0 650.0,52.0\" fill=\"none\" stroke=\"currentColor\"/>\n",
       "    <text dy=\"1.25em\" style=\"font-size: 0.8em; letter-spacing: 1px\">\n",
       "        <textPath xlink:href=\"#arrow-f6f04a0583e847efafa13634c10ad62f-0-4\" class=\"displacy-label\" startOffset=\"50%\" side=\"left\" fill=\"currentColor\" text-anchor=\"middle\">nsubj</textPath>\n",
       "    </text>\n",
       "    <path class=\"displacy-arrowhead\" d=\"M570,54.0 L562,42.0 578,42.0\" fill=\"currentColor\"/>\n",
       "</g>\n",
       "\n",
       "<g class=\"displacy-arrow\">\n",
       "    <path class=\"displacy-arc\" id=\"arrow-f6f04a0583e847efafa13634c10ad62f-0-5\" stroke-width=\"2px\" d=\"M670,52.0 C670,2.0 750.0,2.0 750.0,52.0\" fill=\"none\" stroke=\"currentColor\"/>\n",
       "    <text dy=\"1.25em\" style=\"font-size: 0.8em; letter-spacing: 1px\">\n",
       "        <textPath xlink:href=\"#arrow-f6f04a0583e847efafa13634c10ad62f-0-5\" class=\"displacy-label\" startOffset=\"50%\" side=\"left\" fill=\"currentColor\" text-anchor=\"middle\">acomp</textPath>\n",
       "    </text>\n",
       "    <path class=\"displacy-arrowhead\" d=\"M750.0,54.0 L758.0,42.0 742.0,42.0\" fill=\"currentColor\"/>\n",
       "</g>\n",
       "</svg></span>"
      ],
      "text/plain": [
       "<IPython.core.display.HTML object>"
      ]
     },
     "metadata": {},
     "output_type": "display_data"
    }
   ],
   "source": [
    "doc = nlp(doc2)\n",
    "displacy.render(doc,style='dep',jupyter=True, options={'distance':100})"
   ]
  },
  {
   "cell_type": "code",
   "execution_count": 23,
   "metadata": {
    "scrolled": false
   },
   "outputs": [
    {
     "name": "stdout",
     "output_type": "stream",
     "text": [
      "Apple\n",
      "PROPN\n",
      "conj\n",
      "is\n",
      "PROPN\n",
      "conj\n",
      "building\n",
      "PROPN\n",
      "conj\n",
      "its\n",
      "PROPN\n",
      "conj\n",
      "headquarters\n",
      "PROPN\n",
      "conj\n",
      "in\n",
      "PROPN\n",
      "conj\n",
      "China\n",
      "PROPN\n",
      "conj\n",
      "for\n",
      "PROPN\n",
      "conj\n",
      "100\n",
      "PROPN\n",
      "conj\n",
      "million\n",
      "PROPN\n",
      "conj\n",
      "dollars\n",
      "PROPN\n",
      "conj\n"
     ]
    }
   ],
   "source": [
    "doc.noun_chunks\n",
    "doc = nlp(doc5)\n",
    "for token in doc:\n",
    "    print(token.text)\n",
    "    print(tokens.pos_)\n",
    "    print(tokens.dep_)"
   ]
  },
  {
   "cell_type": "code",
   "execution_count": 26,
   "metadata": {
    "scrolled": true
   },
   "outputs": [
    {
     "ename": "NameError",
     "evalue": "name 'word' is not defined",
     "output_type": "error",
     "traceback": [
      "\u001b[1;31m---------------------------------------------------------------------------\u001b[0m",
      "\u001b[1;31mNameError\u001b[0m                                 Traceback (most recent call last)",
      "\u001b[1;32m<ipython-input-26-727266488b55>\u001b[0m in \u001b[0;36m<module>\u001b[1;34m\u001b[0m\n\u001b[0;32m      2\u001b[0m \u001b[0mps\u001b[0m \u001b[1;33m=\u001b[0m \u001b[0mPorterStemmer\u001b[0m\u001b[1;33m(\u001b[0m\u001b[1;33m)\u001b[0m\u001b[1;33m\u001b[0m\u001b[1;33m\u001b[0m\u001b[0m\n\u001b[0;32m      3\u001b[0m \u001b[0mwords\u001b[0m \u001b[1;33m=\u001b[0m \u001b[0mdoc\u001b[0m\u001b[1;33m\u001b[0m\u001b[1;33m\u001b[0m\u001b[0m\n\u001b[1;32m----> 4\u001b[1;33m \u001b[0mps\u001b[0m\u001b[1;33m.\u001b[0m\u001b[0mstem\u001b[0m\u001b[1;33m(\u001b[0m\u001b[0mword\u001b[0m\u001b[1;33m)\u001b[0m\u001b[1;33m\u001b[0m\u001b[1;33m\u001b[0m\u001b[0m\n\u001b[0m\u001b[0;32m      5\u001b[0m \u001b[1;33m\u001b[0m\u001b[0m\n\u001b[0;32m      6\u001b[0m \u001b[0mss\u001b[0m \u001b[1;33m=\u001b[0m \u001b[0mSnowballStemmer\u001b[0m\u001b[1;33m(\u001b[0m\u001b[0mlanguage\u001b[0m\u001b[1;33m=\u001b[0m\u001b[1;34m'english'\u001b[0m\u001b[1;33m)\u001b[0m\u001b[1;33m\u001b[0m\u001b[1;33m\u001b[0m\u001b[0m\n",
      "\u001b[1;31mNameError\u001b[0m: name 'word' is not defined"
     ]
    }
   ],
   "source": [
    "# for stemming\n",
    "ps = PorterStemmer()\n",
    "words = []\n",
    "ps.stem(word)\n",
    "\n",
    "ss = SnowballStemmer(language='english')"
   ]
  },
  {
   "cell_type": "code",
   "execution_count": 27,
   "metadata": {},
   "outputs": [
    {
     "name": "stdout",
     "output_type": "stream",
     "text": [
      "{'sixty', \"'re\", 'our', 'they', \"'ve\", 'for', 'about', 'perhaps', 'first', 'somewhere', 'after', 'besides', 'seemed', 'see', 'next', 'more', 'yourself', 'all', 'will', 'seems', 'enough', 'must', 'unless', 'across', 'nevertheless', 'call', 'over', 'me', 'also', 'being', 'seeming', 'nor', 'the', 'twelve', 'anyone', 'not', 'which', 'ever', 'whose', 'by', 'from', 'go', 'whereupon', 'hundred', 'everyone', 'always', \"'m\", 'former', 'please', '’re', 'eight', 'hers', 'noone', 'regarding', '‘ll', 'n’t', 'may', 'done', 'into', 'i', 'against', 'at', 'many', 'take', 'anyhow', 'rather', 'below', 'ca', 'above', 'can', 'in', 'moreover', 'whereas', 'whither', 'nothing', 'less', 'ten', 'with', 'either', 'wherein', 'your', 'afterwards', 'get', 'yet', 'even', 'two', 'since', 'up', 'was', 'just', 'some', 'has', 'though', 'anything', 'again', 'under', 'amongst', \"'d\", 'n‘t', 'latterly', 'should', 'none', 'otherwise', 'hereafter', 'within', 'these', 'least', 'meanwhile', 'do', 'eleven', 'of', 'towards', 'due', 'to', 'myself', 'is', 'itself', 'along', 'cannot', '‘m', 'various', 'indeed', 'hereupon', 'often', 'behind', 'nine', 'whereafter', 'very', 'everywhere', 'this', 'most', 'same', 'namely', 'much', 'mostly', 'whatever', 'around', 'someone', '’ll', 'make', 'how', 'everything', 'although', 'four', 'if', 'its', 'upon', 'am', 'among', 'onto', 'used', 'another', 'therefore', 'hereby', 'something', 'however', 'formerly', 'or', 're', 'were', 'yourselves', 'else', 'because', 'neither', 'full', 'one', 'no', 'seem', 'somehow', 'when', 'thus', 'we', \"'ll\", 'toward', 'off', 'back', 'through', 'fifteen', 'themselves', 'him', 'did', 'using', 'each', 'would', 'have', 'move', 'on', 'now', 'both', 'hence', 'fifty', 'mine', 'sometimes', 'others', 'thru', 'made', 'here', 'keep', 'are', 'well', 'top', 'might', 'those', 'forty', 'say', 'front', 'almost', 'nobody', '’ve', 'once', 'too', 'five', 'a', 'whoever', 'anyway', '‘d', 'that', 'last', 'via', 'except', 'side', 'ourselves', 'six', 'beyond', '’d', 'doing', 'herein', 'already', 'beforehand', 'nowhere', 'it', '‘s', 'than', 'became', 'own', 'together', 'becoming', 'serious', 'he', 'my', 'you', 'during', 'never', 'anywhere', 'thereafter', 'their', 'us', 'any', 'quite', 'whole', 'as', 'had', 'until', 'there', 'part', 'throughout', 'further', 'amount', 'becomes', 'so', 'out', 'become', 'thence', 'several', 'but', 'beside', 'give', 'name', 'per', 'while', \"'s\", 'his', 'put', 'whether', 'twenty', 'her', \"n't\", 'empty', 'still', 'few', 'wherever', 'without', 'thereby', 'and', '‘ve', '‘re', 'elsewhere', 'third', 'alone', 'down', 'such', 'an', 'could', 'what', '’m', 'three', 'show', 'really', 'whenever', 'between', 'why', 'other', 'she', 'whence', 'then', 'before', 'herself', 'every', 'thereupon', 'them', 'only', 'sometime', 'whereby', 'where', 'whom', 'been', 'bottom', 'latter', 'ours', '’s', 'yours', 'be', 'does', 'therein', 'who', 'himself'}\n"
     ]
    }
   ],
   "source": [
    "# stopwords\n",
    "import spacy\n",
    "nlp = spacy.load(\"en_core_web_sm\")\n",
    "print(nlp.Defaults.stop_words)\n",
    "\n",
    "# is_stop, add, remove"
   ]
  },
  {
   "cell_type": "code",
   "execution_count": null,
   "metadata": {},
   "outputs": [],
   "source": []
  }
 ],
 "metadata": {
  "kernelspec": {
   "display_name": "Python 3",
   "language": "python",
   "name": "python3"
  },
  "language_info": {
   "codemirror_mode": {
    "name": "ipython",
    "version": 3
   },
   "file_extension": ".py",
   "mimetype": "text/x-python",
   "name": "python",
   "nbconvert_exporter": "python",
   "pygments_lexer": "ipython3",
   "version": "3.7.6"
  },
  "toc": {
   "base_numbering": 1,
   "nav_menu": {},
   "number_sections": true,
   "sideBar": true,
   "skip_h1_title": false,
   "title_cell": "Table of Contents",
   "title_sidebar": "Contents",
   "toc_cell": false,
   "toc_position": {},
   "toc_section_display": true,
   "toc_window_display": false
  }
 },
 "nbformat": 4,
 "nbformat_minor": 4
}
