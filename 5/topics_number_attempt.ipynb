{
  "cells": [
    {
      "cell_type": "markdown",
      "metadata": {
        "id": "3P9c8oMI29ux"
      },
      "source": [
        "### Delivery 5 - Natural Language Processing - Topic Modelling"
      ]
    },
    {
      "cell_type": "code",
      "source": [
        "from google.colab import drive\n",
        "drive.mount('/content/drive')"
      ],
      "metadata": {
        "colab": {
          "base_uri": "https://localhost:8080/"
        },
        "id": "sElMl6J-J6wl",
        "outputId": "7d1e87a0-15da-48cc-9d76-69922d22c27f"
      },
      "execution_count": null,
      "outputs": [
        {
          "output_type": "stream",
          "name": "stdout",
          "text": [
            "Mounted at /content/drive\n"
          ]
        }
      ]
    },
    {
      "cell_type": "code",
      "source": [
        "import os \n",
        "root_dir = \"/content/drive/My Drive/\"\n",
        "project_folder = \"Colab Notebooks/MBD/\"\n",
        "\n",
        "def create_and_set_working_directory(project_folder):\n",
        "  # check if your project folder exists. if not, it will be created.\n",
        "  if os.path.isdir(root_dir + project_folder) == False:\n",
        "    os.mkdir(root_dir + project_folder)\n",
        "    print(root_dir + project_folder + ' did not exist but was created.')\n",
        "  # change the OS to use your project folder as the working directory\n",
        "  os.chdir(root_dir + project_folder)\n",
        "\n",
        "create_and_set_working_directory(project_folder)"
      ],
      "metadata": {
        "id": "UFpGsY2LJ_a-"
      },
      "execution_count": null,
      "outputs": []
    },
    {
      "cell_type": "code",
      "execution_count": null,
      "metadata": {
        "id": "MBRK6Rad29u8"
      },
      "outputs": [],
      "source": [
        "import pandas as pd\n",
        "from sklearn.feature_extraction.text import CountVectorizer\n",
        "from sklearn.decomposition import LatentDirichletAllocation\n",
        "import random"
      ]
    },
    {
      "cell_type": "markdown",
      "metadata": {
        "id": "M54Pozy629vC"
      },
      "source": [
        "Reading the questions from the quora dataset"
      ]
    },
    {
      "cell_type": "code",
      "execution_count": 59,
      "metadata": {
        "id": "4sg5PPLi29vD"
      },
      "outputs": [],
      "source": [
        "qq = pd.read_csv('quora_questions.csv')\n",
        "qq = qq.head(1000)"
      ]
    },
    {
      "cell_type": "markdown",
      "source": [
        "ATTEMPT 1 : Coherence"
      ],
      "metadata": {
        "id": "WU7BMQRtDFi6"
      }
    },
    {
      "cell_type": "code",
      "source": [
        "import re\n",
        "# Remove punctuation\n",
        "qq['Question_processed'] = qq['Question'].map(lambda x: re.sub('[,\\.!?]', '', x))\n",
        "# Convert the titles to lowercase\n",
        "qq['Question_processed'] = qq['Question_processed'].map(lambda x: x.lower())\n",
        "# Print out the first rows of papers\n",
        "qq['Question_processed'].head()"
      ],
      "metadata": {
        "colab": {
          "base_uri": "https://localhost:8080/"
        },
        "id": "VOJGD4YCx6d0",
        "outputId": "518fac9e-1485-478f-e674-b2ffdb5e8c91"
      },
      "execution_count": 60,
      "outputs": [
        {
          "output_type": "execute_result",
          "data": {
            "text/plain": [
              "0    what is the step by step guide to invest in sh...\n",
              "1    what is the story of kohinoor (koh-i-noor) dia...\n",
              "2    how can i increase the speed of my internet co...\n",
              "3     why am i mentally very lonely how can i solve it\n",
              "4    which one dissolve in water quikly sugar salt ...\n",
              "Name: Question_processed, dtype: object"
            ]
          },
          "metadata": {},
          "execution_count": 60
        }
      ]
    },
    {
      "cell_type": "code",
      "source": [
        "import gensim\n",
        "from gensim.utils import simple_preprocess\n",
        "def sent_to_words(sentences):\n",
        "    for sentence in sentences:\n",
        "        yield(gensim.utils.simple_preprocess(str(sentence), deacc=True))  # deacc=True removes punctuations\n",
        "data = qq.Question_processed.values.tolist()\n",
        "data_words = list(sent_to_words(data))\n",
        "print(data_words[:1][0][:30])"
      ],
      "metadata": {
        "colab": {
          "base_uri": "https://localhost:8080/"
        },
        "id": "L67l5VSJy3Oi",
        "outputId": "138e68c4-a1ab-4464-b994-a73cae250333"
      },
      "execution_count": 61,
      "outputs": [
        {
          "output_type": "stream",
          "name": "stdout",
          "text": [
            "['what', 'is', 'the', 'step', 'by', 'step', 'guide', 'to', 'invest', 'in', 'share', 'market', 'in', 'india']\n"
          ]
        }
      ]
    },
    {
      "cell_type": "code",
      "source": [
        "# Build the bigram and trigram models\n",
        "bigram = gensim.models.Phrases(data_words, min_count=5, threshold=100) # higher threshold fewer phrases.\n",
        "trigram = gensim.models.Phrases(bigram[data_words], threshold=100)\n",
        "# Faster way to get a sentence clubbed as a trigram/bigram\n",
        "bigram_mod = gensim.models.phrases.Phraser(bigram)\n",
        "trigram_mod = gensim.models.phrases.Phraser(trigram)"
      ],
      "metadata": {
        "colab": {
          "base_uri": "https://localhost:8080/"
        },
        "id": "dUu0DZxHzQyV",
        "outputId": "f9ab1d51-98b6-4077-9a1a-8ea3d905107f"
      },
      "execution_count": 62,
      "outputs": [
        {
          "output_type": "stream",
          "name": "stderr",
          "text": [
            "/usr/local/lib/python3.7/dist-packages/gensim/models/phrases.py:598: UserWarning: For a faster implementation, use the gensim.models.phrases.Phraser class\n",
            "  warnings.warn(\"For a faster implementation, use the gensim.models.phrases.Phraser class\")\n"
          ]
        }
      ]
    },
    {
      "cell_type": "code",
      "source": [
        "# NLTK Stop words\n",
        "import nltk\n",
        "nltk.download('stopwords')\n",
        "from nltk.corpus import stopwords\n",
        "stop_words = stopwords.words('english')\n",
        "stop_words.extend(['from', 'subject', 're', 'edu', 'use'])\n",
        "# Define functions for stopwords, bigrams, trigrams and lemmatization\n",
        "def remove_stopwords(texts):\n",
        "    return [[word for word in simple_preprocess(str(doc)) if word not in stop_words] for doc in texts]\n",
        "def make_bigrams(texts):\n",
        "    return [bigram_mod[doc] for doc in texts]\n",
        "def make_trigrams(texts):\n",
        "    return [trigram_mod[bigram_mod[doc]] for doc in texts]\n",
        "def lemmatization(texts, allowed_postags=['NOUN', 'ADJ', 'VERB', 'ADV']):\n",
        "    \"\"\"https://spacy.io/api/annotation\"\"\"\n",
        "    texts_out = []\n",
        "    for sent in texts:\n",
        "        doc = nlp(\" \".join(sent)) \n",
        "        texts_out.append([token.lemma_ for token in doc if token.pos_ in allowed_postags])\n",
        "    return texts_out"
      ],
      "metadata": {
        "colab": {
          "base_uri": "https://localhost:8080/"
        },
        "id": "_BsrQG_tzp_o",
        "outputId": "97854105-01ea-4be7-ac9c-d9d7847cd8ee"
      },
      "execution_count": 63,
      "outputs": [
        {
          "output_type": "stream",
          "name": "stdout",
          "text": [
            "[nltk_data] Downloading package stopwords to /root/nltk_data...\n",
            "[nltk_data]   Package stopwords is already up-to-date!\n"
          ]
        }
      ]
    },
    {
      "cell_type": "code",
      "source": [
        "import spacy\n",
        "# Remove Stop Words\n",
        "data_words_nostops = remove_stopwords(data_words)\n",
        "# Form Bigrams\n",
        "data_words_bigrams = make_bigrams(data_words_nostops)\n",
        "# Initialize spacy 'en' model, keeping only tagger component (for efficiency)\n",
        "nlp = spacy.load(\"en_core_web_sm\", disable=['parser', 'ner'])\n",
        "# Do lemmatization keeping only noun, adj, vb, adv\n",
        "data_lemmatized = lemmatization(data_words_bigrams, allowed_postags=['NOUN', 'ADJ', 'VERB', 'ADV'])\n",
        "print(data_lemmatized[:1])"
      ],
      "metadata": {
        "colab": {
          "base_uri": "https://localhost:8080/"
        },
        "id": "dDDpTg9tzuln",
        "outputId": "041d28ce-9f78-48b8-fb57-bc5d5a4a590a"
      },
      "execution_count": 64,
      "outputs": [
        {
          "output_type": "stream",
          "name": "stdout",
          "text": [
            "[['step', 'step', 'invest', 'share', 'market']]\n"
          ]
        }
      ]
    },
    {
      "cell_type": "code",
      "source": [
        "import gensim.corpora as corpora\n",
        "# Create Dictionary\n",
        "id2word = corpora.Dictionary(data_lemmatized)\n",
        "# Create Corpus\n",
        "texts = data_lemmatized\n",
        "# Term Document Frequency\n",
        "corpus = [id2word.doc2bow(text) for text in texts]\n",
        "# View\n",
        "print(corpus[:1])"
      ],
      "metadata": {
        "colab": {
          "base_uri": "https://localhost:8080/"
        },
        "id": "X3PdoqgXz4d6",
        "outputId": "daaee33e-4aec-436b-8ee7-02f0c54bd16f"
      },
      "execution_count": 65,
      "outputs": [
        {
          "output_type": "stream",
          "name": "stdout",
          "text": [
            "[[(0, 1), (1, 1), (2, 1), (3, 2)]]\n"
          ]
        }
      ]
    },
    {
      "cell_type": "code",
      "source": [
        "# Build LDA model\n",
        "lda_model = gensim.models.LdaMulticore(corpus=corpus,\n",
        "                                       id2word=id2word,\n",
        "                                       num_topics=10, \n",
        "                                       random_state=100,\n",
        "                                       chunksize=100,\n",
        "                                       passes=10,\n",
        "                                       per_word_topics=True)\n",
        "lda_model.num_topics"
      ],
      "metadata": {
        "colab": {
          "base_uri": "https://localhost:8080/"
        },
        "id": "E3Dze-I00C7E",
        "outputId": "6002b1a9-6c74-42cc-f8c8-e820c1705362"
      },
      "execution_count": 66,
      "outputs": [
        {
          "output_type": "execute_result",
          "data": {
            "text/plain": [
              "10"
            ]
          },
          "metadata": {},
          "execution_count": 66
        }
      ]
    },
    {
      "cell_type": "code",
      "source": [
        "from pprint import pprint\n",
        "# Print the Keyword in the 10 topics\n",
        "pprint(lda_model.print_topics())\n",
        "doc_lda = lda_model[corpus]"
      ],
      "metadata": {
        "colab": {
          "base_uri": "https://localhost:8080/"
        },
        "id": "rEqS3uX40MC7",
        "outputId": "1cad49e9-074f-4262-daf6-639fccd9f2c0"
      },
      "execution_count": 67,
      "outputs": [
        {
          "output_type": "stream",
          "name": "stdout",
          "text": [
            "[(0,\n",
            "  '0.025*\"cause\" + 0.025*\"school\" + 0.018*\"weight\" + 0.018*\"student\" + '\n",
            "  '0.017*\"share\" + 0.016*\"hard\" + 0.016*\"would\" + 0.016*\"find\" + 0.015*\"know\" '\n",
            "  '+ 0.015*\"value\"'),\n",
            " (1,\n",
            "  '0.041*\"good\" + 0.040*\"movie\" + 0.035*\"people\" + 0.027*\"become\" + '\n",
            "  '0.021*\"job\" + 0.020*\"start\" + 0.018*\"improve\" + 0.017*\"year\" + '\n",
            "  '0.014*\"think\" + 0.014*\"old\"'),\n",
            " (2,\n",
            "  '0.034*\"learn\" + 0.026*\"language\" + 0.017*\"programming\" + 0.017*\"medicine\" + '\n",
            "  '0.015*\"computer\" + 0.015*\"ask\" + 0.014*\"ever\" + 0.013*\"child\" + '\n",
            "  '0.012*\"video\" + 0.012*\"world\"'),\n",
            " (3,\n",
            "  '0.150*\"good\" + 0.025*\"much\" + 0.024*\"life\" + 0.017*\"place\" + 0.015*\"class\" '\n",
            "  '+ 0.015*\"exam\" + 0.014*\"important\" + 0.013*\"start\" + 0.012*\"way\" + '\n",
            "  '0.011*\"make\"'),\n",
            " (4,\n",
            "  '0.022*\"go\" + 0.016*\"love\" + 0.015*\"really\" + 0.013*\"import\" + 0.013*\"back\" '\n",
            "  '+ 0.012*\"term\" + 0.012*\"benefit\" + 0.011*\"effect\" + 0.010*\"cost\" + '\n",
            "  '0.010*\"part\"'),\n",
            " (5,\n",
            "  '0.027*\"number\" + 0.026*\"change\" + 0.023*\"feel\" + 0.022*\"work\" + '\n",
            "  '0.021*\"money\" + 0.020*\"online\" + 0.015*\"experience\" + 0.015*\"relationship\" '\n",
            "  '+ 0.015*\"develop\" + 0.013*\"card\"'),\n",
            " (6,\n",
            "  '0.028*\"possible\" + 0.025*\"give\" + 0.020*\"make\" + 0.020*\"many\" + '\n",
            "  '0.019*\"person\" + 0.016*\"thing\" + 0.016*\"girl\" + 0.016*\"want\" + 0.015*\"late\" '\n",
            "  '+ 0.014*\"science\"'),\n",
            " (7,\n",
            "  '0.048*\"time\" + 0.020*\"question\" + 0.018*\"could\" + 0.016*\"indian\" + '\n",
            "  '0.015*\"need\" + 0.015*\"relate\" + 0.014*\"word\" + 0.014*\"believe\" + '\n",
            "  '0.012*\"different\" + 0.011*\"watch\"'),\n",
            " (8,\n",
            "  '0.034*\"take\" + 0.023*\"would\" + 0.021*\"stop\" + 0.019*\"new\" + 0.016*\"game\" + '\n",
            "  '0.014*\"get\" + 0.013*\"happen\" + 0.013*\"long\" + 0.013*\"mean\" + 0.012*\"film\"'),\n",
            " (9,\n",
            "  '0.034*\"difference\" + 0.029*\"system\" + 0.020*\"use\" + 0.017*\"dream\" + '\n",
            "  '0.016*\"test\" + 0.015*\"speak\" + 0.014*\"see\" + 0.012*\"salary\" + '\n",
            "  '0.011*\"bachelor\" + 0.011*\"degree\"')]\n"
          ]
        }
      ]
    },
    {
      "cell_type": "code",
      "source": [
        "from gensim.models import CoherenceModel\n",
        "# Compute Coherence Score\n",
        "co = dict()\n",
        "for i in range(3,30,3):\n",
        "  lda_model = gensim.models.LdaMulticore(corpus=corpus,\n",
        "                                        id2word=id2word,\n",
        "                                        num_topics=i, \n",
        "                                        random_state=100,\n",
        "                                        chunksize=100,\n",
        "                                        passes=10,\n",
        "                                        per_word_topics=True)\n",
        "  coherence_model_lda = CoherenceModel(model=lda_model, texts=data_lemmatized, dictionary=id2word, coherence='c_v')\n",
        "  coherence_lda = coherence_model_lda.get_coherence()\n",
        "  co[i] = coherence_lda\n",
        "  print('\\nCoherence Score: ', coherence_lda, 'with',lda_model.num_topics,'topics')\n",
        "print(max(co))"
      ],
      "metadata": {
        "colab": {
          "base_uri": "https://localhost:8080/"
        },
        "id": "AZAK6c5W0Rj3",
        "outputId": "eeaf31ce-76bb-4356-f20f-dbdd8c4b1b60"
      },
      "execution_count": 69,
      "outputs": [
        {
          "output_type": "stream",
          "name": "stdout",
          "text": [
            "\n",
            "Coherence Score:  0.6666668149451039 with 3 topics\n",
            "\n",
            "Coherence Score:  0.6773449112717861 with 6 topics\n",
            "\n",
            "Coherence Score:  0.6893040279020851 with 9 topics\n",
            "\n",
            "Coherence Score:  0.6736481552595103 with 12 topics\n",
            "\n",
            "Coherence Score:  0.6760151670625484 with 15 topics\n",
            "\n",
            "Coherence Score:  0.6399090394908489 with 18 topics\n",
            "\n",
            "Coherence Score:  0.630328597396334 with 21 topics\n",
            "\n",
            "Coherence Score:  0.6267182558654087 with 24 topics\n",
            "\n",
            "Coherence Score:  0.6067635849505998 with 27 topics\n",
            "{3: 0.6666668149451039, 6: 0.6773449112717861, 9: 0.6893040279020851, 12: 0.6736481552595103, 15: 0.6760151670625484, 18: 0.6399090394908489, 21: 0.630328597396334, 24: 0.6267182558654087, 27: 0.6067635849505998}\n"
          ]
        }
      ]
    },
    {
      "cell_type": "code",
      "source": [
        "def max_dic(d): \n",
        "  maxim = 0\n",
        "  ma = 0\n",
        "  for key in d.keys():\n",
        "    if d[key] > maxim:\n",
        "      maxim = d[key]\n",
        "      ma = key\n",
        "  return ma\n",
        "print(\"The number of topics with the highest coherence value associated is\", max_dic(co))"
      ],
      "metadata": {
        "colab": {
          "base_uri": "https://localhost:8080/"
        },
        "id": "mCY55HlxH3e0",
        "outputId": "2c8658cb-32f9-4b4d-d711-fb7b144c6fe2"
      },
      "execution_count": 80,
      "outputs": [
        {
          "output_type": "stream",
          "name": "stdout",
          "text": [
            "The number of topics with the highest coherence value associated is 9\n"
          ]
        }
      ]
    },
    {
      "cell_type": "markdown",
      "source": [
        "\n",
        "\n",
        "---\n",
        "\n",
        "\n",
        "---\n",
        "\n",
        "\n",
        "\n",
        "---\n",
        "\n",
        "\n",
        "\n",
        "---\n",
        "\n",
        "\n"
      ],
      "metadata": {
        "id": "X36pXl43Gf9j"
      }
    },
    {
      "cell_type": "markdown",
      "source": [
        "ATTEMPT 2 : Hierarchical Dirichlet Process"
      ],
      "metadata": {
        "id": "Q22kM500DIT-"
      }
    },
    {
      "cell_type": "code",
      "source": [
        "from gensim.test.utils import common_corpus, common_dictionary"
      ],
      "metadata": {
        "id": "C5mEBYI1DEZ9"
      },
      "execution_count": null,
      "outputs": []
    },
    {
      "cell_type": "markdown",
      "source": [
        "\n",
        "\n",
        "---\n",
        "\n",
        "\n",
        "---\n",
        "\n",
        "\n",
        "\n",
        "---\n",
        "\n",
        "\n",
        "\n",
        "---\n",
        "\n",
        "\n"
      ],
      "metadata": {
        "id": "acY8_POXJwkB"
      }
    },
    {
      "cell_type": "code",
      "source": [
        "# supporting function\n",
        "def compute_coherence_values(corpus, dictionary, k, a, b):\n",
        "    \n",
        "    lda_model = gensim.models.LdaMulticore(corpus=corpus,\n",
        "                                           id2word=dictionary,\n",
        "                                           num_topics=k, \n",
        "                                           random_state=100,\n",
        "                                           chunksize=100,\n",
        "                                           passes=10,\n",
        "                                           alpha=a,\n",
        "                                           eta=b)\n",
        "    \n",
        "    coherence_model_lda = CoherenceModel(model=lda_model, texts=data_lemmatized, dictionary=id2word, coherence='c_v')\n",
        "    \n",
        "    return coherence_model_lda.get_coherence()"
      ],
      "metadata": {
        "id": "RS_SngKx0gog"
      },
      "execution_count": null,
      "outputs": []
    },
    {
      "cell_type": "code",
      "source": [
        "########################################\n",
        "## function for attempt 1 ##\n",
        "## DOES NOT RUN ##\n",
        "import numpy as np\n",
        "import tqdm\n",
        "grid = {}\n",
        "grid['Validation_Set'] = {}\n",
        "# Topics range\n",
        "min_topics = 2\n",
        "max_topics = 11\n",
        "step_size = 1\n",
        "topics_range = range(min_topics, max_topics, step_size)\n",
        "# Alpha parameter\n",
        "alpha = list(np.arange(0.01, 1, 0.3))\n",
        "alpha.append('symmetric')\n",
        "alpha.append('asymmetric')\n",
        "# Beta parameter\n",
        "beta = list(np.arange(0.01, 1, 0.3))\n",
        "beta.append('symmetric')\n",
        "# Validation sets\n",
        "num_of_docs = len(corpus)\n",
        "corpus_sets = [# gensim.utils.ClippedCorpus(corpus, num_of_docs*0.25), \n",
        "               # gensim.utils.ClippedCorpus(corpus, num_of_docs*0.5), \n",
        "               gensim.utils.ClippedCorpus(corpus, num_of_docs*0.75), \n",
        "               corpus]\n",
        "corpus_title = ['75% Corpus', '100% Corpus']\n",
        "model_results = {'Validation_Set': [],\n",
        "                 'Topics': [],\n",
        "                 'Alpha': [],\n",
        "                 'Beta': [],\n",
        "                 'Coherence': []\n",
        "                }\n",
        "# Can take a long time to run\n",
        "if 1 == 1:\n",
        "    pbar = tqdm.tqdm(total=540)\n",
        "    \n",
        "    # iterate through validation corpuses\n",
        "    for i in range(len(corpus_sets)):\n",
        "        # iterate through number of topics\n",
        "        for k in topics_range:\n",
        "            # iterate through alpha values\n",
        "            for a in alpha:\n",
        "                # iterare through beta values\n",
        "                for b in beta:\n",
        "                    # get the coherence score for the given parameters\n",
        "                    cv = compute_coherence_values(corpus=corpus_sets[i], dictionary=id2word, \n",
        "                                                  k=k, a=a, b=b)\n",
        "                    # Save the model results\n",
        "                    model_results['Validation_Set'].append(corpus_title[i])\n",
        "                    model_results['Topics'].append(k)\n",
        "                    model_results['Alpha'].append(a)\n",
        "                    model_results['Beta'].append(b)\n",
        "                    model_results['Coherence'].append(cv)\n",
        "                    \n",
        "                    pbar.update(1)\n",
        "    pd.DataFrame(model_results).to_csv('lda_tuning_results.csv', index=False)\n",
        "    pbar.close()"
      ],
      "metadata": {
        "id": "RxSvmVLb7Zgl"
      },
      "execution_count": null,
      "outputs": []
    },
    {
      "cell_type": "markdown",
      "source": [
        "\n",
        "\n",
        "---\n",
        "\n"
      ],
      "metadata": {
        "id": "3EKt-GWaGn6N"
      }
    }
  ],
  "metadata": {
    "kernelspec": {
      "display_name": "Python 3",
      "language": "python",
      "name": "python3"
    },
    "language_info": {
      "codemirror_mode": {
        "name": "ipython",
        "version": 3
      },
      "file_extension": ".py",
      "mimetype": "text/x-python",
      "name": "python",
      "nbconvert_exporter": "python",
      "pygments_lexer": "ipython3",
      "version": "3.7.6"
    },
    "toc": {
      "base_numbering": 1,
      "nav_menu": {},
      "number_sections": true,
      "sideBar": true,
      "skip_h1_title": false,
      "title_cell": "Table of Contents",
      "title_sidebar": "Contents",
      "toc_cell": false,
      "toc_position": {},
      "toc_section_display": true,
      "toc_window_display": false
    },
    "colab": {
      "name": "topics_number_attempt.ipynb",
      "provenance": [],
      "collapsed_sections": []
    },
    "accelerator": "GPU"
  },
  "nbformat": 4,
  "nbformat_minor": 0
}